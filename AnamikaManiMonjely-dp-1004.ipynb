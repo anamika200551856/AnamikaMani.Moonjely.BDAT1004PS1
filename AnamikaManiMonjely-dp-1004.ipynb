{
 "cells": [
  {
   "cell_type": "markdown",
   "id": "47131c8c",
   "metadata": {},
   "source": [
    "# Problem Set 1"
   ]
  },
  {
   "cell_type": "markdown",
   "id": "39ca88fc",
   "metadata": {},
   "source": [
    "## Q1 Find which data type is for each of the input"
   ]
  },
  {
   "cell_type": "code",
   "execution_count": 1,
   "id": "18c44ac1",
   "metadata": {},
   "outputs": [],
   "source": [
    "# importing library for getting math function\n",
    "import math\n"
   ]
  },
  {
   "cell_type": "code",
   "execution_count": 2,
   "id": "58f39275",
   "metadata": {},
   "outputs": [
    {
     "name": "stdout",
     "output_type": "stream",
     "text": [
      "OUTPUT :\n",
      "The data type of 5 is  <class 'int'>\n",
      "The data type of 5.0 is  <class 'float'>\n",
      "The data type of 5>1 is  <class 'bool'>\n",
      "The data type of '5' is  <class 'str'>\n",
      "The data type of 5*2 is  <class 'int'>\n",
      "The data type of '5'*2 is  <class 'str'>\n",
      "The data type of '5'+'2' is  <class 'str'>\n",
      "The data type of 5/2 is  <class 'float'>\n",
      "The data type of 5%2 is  <class 'int'>\n",
      "The data type of {5,2,1} is  <class 'set'>\n",
      "The data type of 5==3 is  <class 'bool'>\n",
      "The data type of pi is  <class 'float'>\n"
     ]
    }
   ],
   "source": [
    "a = 5\n",
    "b = 5.0\n",
    "c = 5 > 1\n",
    "d = '5'\n",
    "e = 5 * 2\n",
    "f = '5' * 2\n",
    "g = '5' + '2'\n",
    "h = 5 / 2\n",
    "i = 5 % 2\n",
    "j = {5, 2, 1}\n",
    "k = 5 == 3\n",
    "l = math.pi\n",
    "\n",
    "\n",
    "print(\"OUTPUT :\")\n",
    "print(\"The data type of 5 is \",type(a))\n",
    "print(\"The data type of 5.0 is \",type(b))\n",
    "print(\"The data type of 5>1 is \",type(c))\n",
    "print(\"The data type of '5' is \",type(d))\n",
    "print(\"The data type of 5*2 is \",type(e))\n",
    "print(\"The data type of '5'*2 is \",type(f))\n",
    "print(\"The data type of '5'+'2' is \",type(g))\n",
    "print(\"The data type of 5/2 is \",type(h))\n",
    "print(\"The data type of 5%2 is \",type(i))\n",
    "print(\"The data type of {5,2,1} is \",type(j))\n",
    "print(\"The data type of 5==3 is \",type(k))\n",
    "print(\"The data type of pi is \",type(l))\n"
   ]
  },
  {
   "cell_type": "markdown",
   "id": "9fa12d56",
   "metadata": {},
   "source": [
    "## Q2 Write and evaluate python expressions below\n"
   ]
  },
  {
   "cell_type": "markdown",
   "id": "8cf47d0d",
   "metadata": {},
   "source": [
    "### a. How many letters are there in 'Supercalifragilisticexpialidocious'?"
   ]
  },
  {
   "cell_type": "code",
   "execution_count": 3,
   "id": "5639a1b3",
   "metadata": {},
   "outputs": [
    {
     "name": "stdout",
     "output_type": "stream",
     "text": [
      "There are 34 letters in 'Supercalifragilisticexpialidocious'.\n"
     ]
    }
   ],
   "source": [
    "w = 'Supercalifragilisticexpialidocious'\n",
    "l_count = len(w)\n",
    "print(f\"There are {l_count} letters in '{w}'.\")\n"
   ]
  },
  {
   "cell_type": "markdown",
   "id": "4dec28e7",
   "metadata": {},
   "source": [
    "### b. Does 'Supercalifragilisticexpialidocious' contain 'ice' as a substring?"
   ]
  },
  {
   "cell_type": "code",
   "execution_count": 4,
   "id": "5c8ee0cd",
   "metadata": {},
   "outputs": [
    {
     "name": "stdout",
     "output_type": "stream",
     "text": [
      "Does 'Supercalifragilisticexpialidocious' contain 'ice' as a substring? True\n"
     ]
    }
   ],
   "source": [
    "w = 'Supercalifragilisticexpialidocious'\n",
    "sstring = 'ice'\n",
    "has_sstring = sstring in w\n",
    "print(f\"Does '{w}' contain '{sstring}' as a substring? {has_sstring}\")\n"
   ]
  },
  {
   "cell_type": "markdown",
   "id": "257d6de5",
   "metadata": {},
   "source": [
    "### c. Which of the following words is the longest: 'Supercalifragilisticexpialidocious', 'Honorificabilitudinitatibus', or 'Bababadalgharaghtakamminarronnkonn'?"
   ]
  },
  {
   "cell_type": "code",
   "execution_count": 5,
   "id": "6138fbac",
   "metadata": {},
   "outputs": [
    {
     "name": "stdout",
     "output_type": "stream",
     "text": [
      "The longest word is 'Supercalifragilisticexpialidocious'.\n"
     ]
    }
   ],
   "source": [
    "words = ['Supercalifragilisticexpialidocious', 'Honorificabilitudinitatibus', 'Bababadalgharaghtakamminarronnkonn']\n",
    "longest_w = max(words, key=len)\n",
    "print(f\"The longest word is '{longest_w}'.\")\n"
   ]
  },
  {
   "cell_type": "markdown",
   "id": "c143fcfc",
   "metadata": {},
   "source": [
    "### d. Which composer comes first in the dictionary: 'Berlioz', 'Borodin', 'Brian', 'Bartok', 'Bellini', 'Buxtehude', 'Bernstein'. Which one comes last?"
   ]
  },
  {
   "cell_type": "code",
   "execution_count": 6,
   "id": "1c0b71c7",
   "metadata": {},
   "outputs": [
    {
     "name": "stdout",
     "output_type": "stream",
     "text": [
      "The composer that comes first in the dictionary is 'Bartok'.\n",
      "The composer that comes last in the dictionary is 'Buxtehude'.\n"
     ]
    }
   ],
   "source": [
    "composers = ['Berlioz', 'Borodin', 'Brian', 'Bartok', 'Bellini', 'Buxtehude', 'Bernstein']\n",
    "first_composer = min(composers)\n",
    "last_composer = max(composers)\n",
    "print(f\"The composer that comes first in the dictionary is '{first_composer}'.\")\n",
    "print(f\"The composer that comes last in the dictionary is '{last_composer}'.\")\n"
   ]
  },
  {
   "cell_type": "markdown",
   "id": "c60ab370",
   "metadata": {},
   "source": [
    "## Q3 Implement function triangleArea(a,b,c) that takes as input the lengths of the 3 sides of a triangle and returns the area of the triangle. By Heron's formula, the area of a triangle with side lengths a, b, and c is \n",
    "### s(s - a)(s - b)(s - c), where s = (a+b+c)/2. "
   ]
  },
  {
   "cell_type": "code",
   "execution_count": 7,
   "id": "7fcadb68",
   "metadata": {},
   "outputs": [
    {
     "name": "stdout",
     "output_type": "stream",
     "text": [
      "Enter the length of side a: 2\n",
      "Enter the length of side b: 2\n",
      "Enter the length of side c: 2\n",
      "Area of the triangle: 1.7320508075688772\n"
     ]
    }
   ],
   "source": [
    "def triangleArea(a, b, c):\n",
    "    s = (a + b + c) / 2\n",
    "    area = (s * (s - a) * (s - b) * (s - c)) ** 0.5\n",
    "    return area\n",
    "\n",
    "a = float(input(\"Enter the length of side a: \")) #input for the lengths of the sides\n",
    "b = float(input(\"Enter the length of side b: \"))\n",
    "c = float(input(\"Enter the length of side c: \"))\n",
    "\n",
    "# the area of the triangle\n",
    "print(\"Area of the triangle:\", triangleArea(a, b, c))\n"
   ]
  },
  {
   "cell_type": "markdown",
   "id": "c601b1a0",
   "metadata": {},
   "source": [
    "## Q4 Write a program in python to separate odd and even integers in separate arrays"
   ]
  },
  {
   "cell_type": "code",
   "execution_count": 8,
   "id": "2d817992",
   "metadata": {},
   "outputs": [
    {
     "name": "stdout",
     "output_type": "stream",
     "text": [
      "Even numbers: [42, 56, 32]\n",
      "Odd numbers: [25, 47]\n"
     ]
    }
   ],
   "source": [
    "def OddEven(A):\n",
    "    even = []\n",
    "    odd = []\n",
    "    for num in A:\n",
    "        if num % 2 == 0:\n",
    "            even.append(num)\n",
    "        else:\n",
    "            odd.append(num)\n",
    "    return even, odd\n",
    "\n",
    "A = [25, 47, 42, 56, 32]\n",
    "\n",
    "even_num, odd_num = OddEven(A)\n",
    "\n",
    "print(\"Even numbers:\", even_num)\n",
    "print(\"Odd numbers:\", odd_num)\n",
    "\n",
    "\n"
   ]
  },
  {
   "cell_type": "markdown",
   "id": "2991a53b",
   "metadata": {},
   "source": [
    "## Q5\n",
    "### a. Write a function inside(x,y,x1,y1,x2,y2) that returns True or False depending on whether the point (x,y) lies in the rectangle with lower leftcorner (x1,y1) and upper right corner (x2,y2).\n"
   ]
  },
  {
   "cell_type": "code",
   "execution_count": 9,
   "id": "f3f0502d",
   "metadata": {},
   "outputs": [
    {
     "name": "stdout",
     "output_type": "stream",
     "text": [
      "Point (1,1) lies inside rectangle (0,0,2,3) is  True\n",
      "Point (-1,-1) lies inside rectangle (0,0,2,3) is False\n"
     ]
    }
   ],
   "source": [
    "def inside(x, y, x1, y1, x2, y2):\n",
    "    return x1 <= x <= x2 and y1 <= y <= y2\n",
    "\n",
    "print(\"Point (1,1) lies inside rectangle (0,0,2,3) is \",inside(1, 1, 0, 0, 2, 3))\n",
    "print(\"Point (-1,-1) lies inside rectangle (0,0,2,3) is\",inside(-1, -1, 0, 0, 2, 3)) \n"
   ]
  },
  {
   "cell_type": "markdown",
   "id": "567fe289",
   "metadata": {},
   "source": [
    "### b.Use function inside() from part a. to write an expression that tests whether the point (1,1) lies in both of the following rectangles: one with lower left corner (0.3, 0.5) and upper right corner (1.1, 0.7) and the other with lower left corner (0.5, 0.2) and upper right corner (1.1, 2). "
   ]
  },
  {
   "cell_type": "code",
   "execution_count": 10,
   "id": "daedb1c0",
   "metadata": {},
   "outputs": [
    {
     "name": "stdout",
     "output_type": "stream",
     "text": [
      "Point (1,1) lies inside rectangle 1: False\n",
      "Point (1,1) lies inside rectangle 2: True\n",
      "Point (1,1) lies inside both rectangles: False\n"
     ]
    }
   ],
   "source": [
    "def inside(x, y, x1, y1, x2, y2):\n",
    "    return x1 <= x <= x2 and y1 <= y <= y2\n",
    "\n",
    "rectangle1 = (0.3, 0.5, 1.1, 0.7)\n",
    "rectangle2 = (0.5, 0.2, 1.1, 2)\n",
    "\n",
    "result1 = inside(1, 1, *rectangle1)# Check if (1, 1) lies inside\n",
    "result2 = inside(1, 1, *rectangle2)# Check if (1, 1) lies inside\n",
    "both_result = inside(1, 1, *rectangle1) and inside(1, 1, *rectangle2) \n",
    "\n",
    "print(\"Point (1,1) lies inside rectangle 1:\", result1)\n",
    "print(\"Point (1,1) lies inside rectangle 2:\", result2)\n",
    "print(\"Point (1,1) lies inside both rectangles:\", both_result)\n"
   ]
  },
  {
   "cell_type": "markdown",
   "id": "afe5a562",
   "metadata": {},
   "source": [
    "## Q6. You can turn a word into pig-Latin using the following two rules (simplified):\n",
    "### If the word starts with a consonant, move that letter to the end and append 'ay'. For example, 'happy' becomes 'appyhay' and 'pencil' becomes 'encilpay'.\n",
    "### If the word starts with a vowel, simply append 'way' to the end of the word. Write a function pig() that takes a word (i.e., a string) as input and returns its pigLatin form. Your function should still work if the input word contains upper case characters. \n"
   ]
  },
  {
   "cell_type": "code",
   "execution_count": 11,
   "id": "62b8efdc",
   "metadata": {},
   "outputs": [
    {
     "name": "stdout",
     "output_type": "stream",
     "text": [
      "The output for the word Happy is  appyhay\n",
      "The output for the word Enter is enterway\n",
      "The output for the word Sad is adsay\n",
      "The output for the word Exit is exitway\n"
     ]
    }
   ],
   "source": [
    "def pig(word):\n",
    "    vowels = ['a', 'e', 'i', 'o', 'u']\n",
    "    word = word.lower()\n",
    "    \n",
    "    if word[0] in vowels:\n",
    "        return word + 'way'\n",
    "    else:\n",
    "        return word[1:] + word[0] + 'ay'\n",
    "\n",
    "print(\"The output for the word Happy is \",pig('Happy'))\n",
    "print(\"The output for the word Enter is\",pig('Enter')) \n",
    "print(\"The output for the word Sad is\",pig('Sad')) \n",
    "print(\"The output for the word Exit is\",pig('Exit')) \n"
   ]
  },
  {
   "cell_type": "markdown",
   "id": "fa36da7a",
   "metadata": {},
   "source": [
    "## Q7 Write a function bldcount() that reads the file with name name and reports (i.e.,prints) how many patients there are in each bloodtype.\n"
   ]
  },
  {
   "cell_type": "code",
   "execution_count": 12,
   "id": "9794d14d",
   "metadata": {},
   "outputs": [
    {
     "name": "stdout",
     "output_type": "stream",
     "text": [
      "There are 15 patients of blood type A.\n",
      "There is one patient of blood type B.\n",
      "There are 13 patients of blood type AB.\n",
      "There are 15 patients of blood type O.\n",
      "There are no patients of blood type OO.\n"
     ]
    }
   ],
   "source": [
    "def bldcount(dataset):\n",
    "    blood_counts = {'A': 0, 'B': 0, 'AB': 0, 'O': 0, 'OO': 0}\n",
    "    \n",
    "    try:\n",
    "        with open(dataset, 'r') as data:\n",
    "            contents = data.read()\n",
    "            \n",
    "            blood_types = contents.split()\n",
    "            \n",
    "            for blood_type in blood_types:\n",
    "                if blood_type in blood_counts:\n",
    "                    blood_counts[blood_type] += 1\n",
    "                else:\n",
    "                    print(f\"Unknown blood type '{blood_type}' found in the file.\")\n",
    "\n",
    "        # Report the counts of each blood type\n",
    "        for blood_type, count in blood_counts.items():\n",
    "            if count == 1:\n",
    "                print(f\"There is one patient of blood type {blood_type}.\")\n",
    "            elif count > 1:\n",
    "                print(f\"There are {count} patients of blood type {blood_type}.\")\n",
    "            else:\n",
    "                print(f\"There are no patients of blood type {blood_type}.\")\n",
    "                \n",
    "    except FileNotFoundError:\n",
    "        print(\"File not found.\")\n",
    "    except Exception as e:\n",
    "        print(\"An error occurred:\", e)\n",
    "\n",
    "bldcount('bloodtype1.txt')\n"
   ]
  },
  {
   "cell_type": "markdown",
   "id": "2d0b9d5a",
   "metadata": {},
   "source": [
    "## Q8 Write a function curconv() that takes as input:\n",
    "### 1. a currency represented using a string (e.g., 'JPY' for the Japanese Yen or 'EUR' for the Euro) \n",
    "### 2. an amount \n",
    "### and then converts and returns the amount in US dollars\n"
   ]
  },
  {
   "cell_type": "code",
   "execution_count": 13,
   "id": "760dd2b2",
   "metadata": {},
   "outputs": [
    {
     "name": "stdout",
     "output_type": "stream",
     "text": [
      "Enter the currency code: EUR\n",
      "Enter the amount: 100\n",
      "122.96544\n",
      "Enter the currency code: JPY\n",
      "Enter the amount: 100\n",
      "1.241401\n"
     ]
    }
   ],
   "source": [
    "def curconv():\n",
    "    try:\n",
    "        # Open the currencies file and read its contents\n",
    "        with open('currencies.txt', 'r') as file:\n",
    "            lines = file.readlines()\n",
    "\n",
    "        # Initialize a dictionary to store currency rates\n",
    "        currency_rates = {}\n",
    "\n",
    "        # Parse each line in the file to extract currency code and rate\n",
    "        for line in lines:\n",
    "            parts = line.split()\n",
    "            code = parts[0]\n",
    "            rate = float(parts[1])\n",
    "            currency_rates[code] = rate\n",
    "\n",
    "        # Get user input for currency code and amount\n",
    "        currency = input(\"Enter the currency code: \").upper()\n",
    "        amount = float(input(\"Enter the amount: \"))\n",
    "\n",
    "        # Check if the input currency code exists in the dictionary\n",
    "        if currency in currency_rates:\n",
    "            # Convert the amount to US dollars using the corresponding rate\n",
    "            usd_amount = amount * currency_rates[currency]\n",
    "            return usd_amount\n",
    "        else:\n",
    "            print(f\"Currency '{currency}' is not found in the file.\")\n",
    "            return None\n",
    "\n",
    "    except FileNotFoundError:\n",
    "        print(\"Currency file 'currencies.txt' not found.\")\n",
    "        return None\n",
    "    except Exception as e:\n",
    "        print(\"An error occurred:\", e)\n",
    "        return None\n",
    "\n",
    "print(curconv())\n",
    "print(curconv())\n"
   ]
  },
  {
   "cell_type": "markdown",
   "id": "c7b7962a",
   "metadata": {},
   "source": [
    "## Q9 Each of the following will cause an exception (an error). Identify what type of exception each will cause.\n"
   ]
  },
  {
   "cell_type": "markdown",
   "id": "2d3c420f",
   "metadata": {},
   "source": [
    "###  A)Trying to add incompatible variables, as in adding 6 + ‘a’\n",
    "Let's try to run a sample code "
   ]
  },
  {
   "cell_type": "code",
   "execution_count": 14,
   "id": "da6ae3c3",
   "metadata": {},
   "outputs": [
    {
     "name": "stdout",
     "output_type": "stream",
     "text": [
      "Error: unsupported operand type(s) for +: 'int' and 'str'\n"
     ]
    }
   ],
   "source": [
    "try:\n",
    "    result = 6 + 'a'\n",
    "except TypeError as e:\n",
    "    print(\"Error:\", e)\n"
   ]
  },
  {
   "cell_type": "markdown",
   "id": "c1a0d1c4",
   "metadata": {},
   "source": [
    "From the output, we can see that we cannot add two different datatypes, ie., 6 is an integer and a is a string.\n"
   ]
  },
  {
   "cell_type": "markdown",
   "id": "6a76b93c",
   "metadata": {},
   "source": [
    "### B) Referring to the 12th item of a list that has only 10 items\n",
    "We cannot refer to items with position more than 10, with only 10 items. Example code is given below."
   ]
  },
  {
   "cell_type": "code",
   "execution_count": 15,
   "id": "3f20abdb",
   "metadata": {},
   "outputs": [
    {
     "name": "stdout",
     "output_type": "stream",
     "text": [
      "Error: list index out of range\n"
     ]
    }
   ],
   "source": [
    "try:\n",
    "    my_list = [1, 2, 3, 4, 5, 6, 7, 8, 9, 10]\n",
    "    item = my_list[11]\n",
    "except IndexError as e:\n",
    "    print(\"Error:\", e)\n"
   ]
  },
  {
   "cell_type": "markdown",
   "id": "55d839ed",
   "metadata": {},
   "source": [
    "The above code attempts to access the element at index 12 of the list. However, only contains 10 elements, with indices ranging from 0 to 9. Therefore, trying to access index 11 is out of range and which raised an IndexError. "
   ]
  },
  {
   "cell_type": "markdown",
   "id": "b3d75d24",
   "metadata": {},
   "source": [
    "### C) Using a value that is out of range for a function’s input, such as calling math.sqrt(-1.0)\n",
    "Example code given below"
   ]
  },
  {
   "cell_type": "code",
   "execution_count": 16,
   "id": "74ffbfea",
   "metadata": {},
   "outputs": [
    {
     "name": "stdout",
     "output_type": "stream",
     "text": [
      "Error: math domain error\n"
     ]
    }
   ],
   "source": [
    "import math\n",
    "\n",
    "try:\n",
    "    result = math.sqrt(-1.0)\n",
    "except ValueError as e:\n",
    "    print(\"Error:\", e)\n"
   ]
  },
  {
   "cell_type": "markdown",
   "id": "350becfa",
   "metadata": {},
   "source": [
    "The above code attempts to compute the square root of -1.0 using the math.sqrt function. The sqrt function does not handle negative numbers because the square root of a negative number is not defined in the realm of real numbers; it is defined in the complex number domain.Thus, math.sqrt(-1.0) raises a ValueError. "
   ]
  },
  {
   "cell_type": "markdown",
   "id": "ff869d3f",
   "metadata": {},
   "source": [
    "### D) Using an undeclared variable, such as print(x) when x has not been defined\n"
   ]
  },
  {
   "cell_type": "code",
   "execution_count": 17,
   "id": "7f525678",
   "metadata": {},
   "outputs": [
    {
     "name": "stdout",
     "output_type": "stream",
     "text": [
      "Error: name 'x' is not defined\n"
     ]
    }
   ],
   "source": [
    "try:\n",
    "    print(x)\n",
    "except NameError as e:\n",
    "    print(\"Error:\", e)\n"
   ]
  },
  {
   "cell_type": "markdown",
   "id": "989b6126",
   "metadata": {},
   "source": [
    "The above code attempts to print the variable x. However, x has not been defined anywhere in the code, which means it is not recognized by the interpreter. This raises a NameError. "
   ]
  },
  {
   "cell_type": "markdown",
   "id": "fcf8ea61",
   "metadata": {},
   "source": [
    "### E) Trying to open a file that does not exist, such as mistyping the file name or looking in the wrong directory\n"
   ]
  },
  {
   "cell_type": "code",
   "execution_count": 18,
   "id": "a812bd87",
   "metadata": {},
   "outputs": [
    {
     "name": "stdout",
     "output_type": "stream",
     "text": [
      "Error: [Errno 2] No such file or directory: 'nonexistent_file.txt'\n"
     ]
    }
   ],
   "source": [
    "try:\n",
    "    with open('nonexistent_file.txt', 'r') as file:\n",
    "        pass\n",
    "except FileNotFoundError as e:\n",
    "    print(\"Error:\", e)\n"
   ]
  },
  {
   "cell_type": "markdown",
   "id": "2b55a702",
   "metadata": {},
   "source": [
    "The above code attempts to open a file named nonexistent_file.txt in read mode ('r'). Since the file does not exist in the directory, it raises a FileNotFoundError."
   ]
  },
  {
   "cell_type": "markdown",
   "id": "9ba0a46d",
   "metadata": {},
   "source": [
    "## Q10) Write a function called frequencies() that takes a string as its only parameter, and returns a list of integers, showing the number of times each character appears in the text. Your function may ignore any characters that are not in letters. "
   ]
  },
  {
   "cell_type": "code",
   "execution_count": 19,
   "id": "c040fc16",
   "metadata": {},
   "outputs": [
    {
     "name": "stdout",
     "output_type": "stream",
     "text": [
      "Enter the text: The quick red fox got bored and went home\n",
      "[1, 1, 1, 3, 5, 1, 1, 2, 1, 0, 1, 0, 1, 2, 4, 0, 1, 2, 0, 3, 1, 0, 1, 1, 0, 0]\n",
      "Enter the text: apple\n",
      "[1, 0, 0, 0, 1, 0, 0, 0, 0, 0, 0, 1, 0, 0, 0, 2, 0, 0, 0, 0, 0, 0, 0, 0, 0, 0]\n"
     ]
    }
   ],
   "source": [
    "def frequencies(text):\n",
    "    # Define the string of lowercase letters\n",
    "    letters = 'abcdefghijklmnopqrstuvwxyz'\n",
    "    \n",
    "    # Initialize a list to store the frequencies\n",
    "    frequency_list = [0] * 26\n",
    "    \n",
    "    # Convert the input text to lowercase\n",
    "    text = text.lower()\n",
    "    \n",
    "    # Iterate over each character in the text\n",
    "    for char in text:\n",
    "        # Check if the character is a lowercase letter\n",
    "        if char in letters:\n",
    "            # Increment the frequency count for the corresponding letter\n",
    "            index = letters.index(char)\n",
    "            frequency_list[index] += 1\n",
    "    \n",
    "    return frequency_list\n",
    "\n",
    "# Prompt the user to enter the text\n",
    "text1 = input(\"Enter the text: \")\n",
    "print(frequencies(text1))\n",
    "text2 = input(\"Enter the text: \")\n",
    "print(frequencies(text2))\n"
   ]
  },
  {
   "cell_type": "code",
   "execution_count": null,
   "id": "3461e9f8",
   "metadata": {},
   "outputs": [],
   "source": []
  }
 ],
 "metadata": {
  "kernelspec": {
   "display_name": "Python 3 (ipykernel)",
   "language": "python",
   "name": "python3"
  },
  "language_info": {
   "codemirror_mode": {
    "name": "ipython",
    "version": 3
   },
   "file_extension": ".py",
   "mimetype": "text/x-python",
   "name": "python",
   "nbconvert_exporter": "python",
   "pygments_lexer": "ipython3",
   "version": "3.10.9"
  }
 },
 "nbformat": 4,
 "nbformat_minor": 5
}
